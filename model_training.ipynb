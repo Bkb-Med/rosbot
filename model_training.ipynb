{
  "nbformat": 4,
  "nbformat_minor": 0,
  "metadata": {
    "colab": {
      "name": "model_training.ipynb",
      "version": "0.3.2",
      "provenance": [],
      "collapsed_sections": []
    },
    "kernelspec": {
      "name": "python3",
      "display_name": "Python 3"
    },
    "accelerator": "GPU"
  },
  "cells": [
    {
      "cell_type": "code",
      "metadata": {
        "id": "0_7OWrtgHMNM",
        "colab_type": "code",
        "outputId": "d1c07915-a9b6-4947-f0ac-fdb44491f557",
        "colab": {
          "base_uri": "https://localhost:8080/",
          "height": 123
        }
      },
      "source": [
        
      ],
      "execution_count": 0,
      "outputs": [
        {
          "output_type": "stream",
          "text": [
           
           
          ],
          "name": "stdout"
        }
      ]
    },
    {
      "cell_type": "markdown",
      "metadata": {
        "id": "G5wMXEYgqKIT",
        "colab_type": "text"
      },
      "source": [
    
      ]
    },
    {
      "cell_type": "markdown",
      "metadata": {
        "id": "79I-PfdcNSBN",
        "colab_type": "text"
      },
      "source": [
        ""
      ]
    },
    {
      "cell_type": "code",
      "metadata": {
        "id": "lbeWESAQHrvW",
        "colab_type": "code",
        "outputId": "756c46b4-1173-4a99-c44a-557049f31144",
        "colab": {
          "base_uri": "https://localhost:8080/",
          "height": 68
        }
      },
      "source": [
        
      ],
      "execution_count": 0,
      "outputs": [
        {
          "output_type": "stream",
          "text": [
  
          ],
          "name": "stdout"
        }
      ]
    },
    {
      "cell_type": "code",
      "metadata": {
        "id": "k5Ayn5APIj7M",
        "colab_type": "code",
        "colab": {}
      },
      "source": [
     
      ],
      "execution_count": 0,
      "outputs": []
    },
    {
      "cell_type": "code",
      "metadata": {
        "id": "gM2TjCu-JE0a",
        "colab_type": "code",
        "outputId": "fa113b46-1351-4824-bb52-c6a1195a9da4",
        "colab": {
          "base_uri": "https://localhost:8080/",
          "height": 68
        }
      },
      "source": [
        "!ls\n"
      ],
      "execution_count": 0,
      "outputs": [
        {
          "output_type": "stream",
          "text": [
          
          ],
          "name": "stdout"
        }
      ]
    },
    {
      "cell_type": "code",
      "metadata": {
        "id": "-pPcTvO9q4C5",
        "colab_type": "code",
        "outputId": "c95198c1-7a26-4ccc-b0e9-b580179d6eb5",
        "colab": {
          "base_uri": "https://localhost:8080/",
          "height": 428
        }
      },
      "source": [

      ],
      "execution_count": 0,
      "outputs": [
        {
          "output_type": "stream",
          "text": [
          ],
          "name": "stdout"
        }
      ]
    },
    {
      "cell_type": "code",
      "metadata": {
        "id": "SPRN-O2tq-b4",
        "colab_type": "code",
        "colab": {}
      },
      "source": [
        ""
      ],
      "execution_count": 0,
      "outputs": []
    },
    {
      "cell_type": "code",
      "metadata": {
        "id": "uGH4T7qwRz7L",
        "colab_type": "code",
        "outputId": "2dfad97b-ff43-414a-b5d5-d218f9380597",
        "colab": {
          "resources": {
            "http://localhost:8080/nbextensions/google.colab/files.js": {
              "ok": true,
              "headers": [
                [
                  "content-type",
                  "application/javascript"
                ]
              ],
              "status": 200,
              "status_text": ""
            }
          },
          "base_uri": "https://localhost:8080/",
          "height": 92
        }
      },
      "source": [

      ],
      "execution_count": 0,
      "outputs": [
        {
          "output_type": "display_data",
          "data": {
            "text/html": [
              "\n",
              "     <input type=\"file\" id=\"files-12b6e77f-865f-4729-9db1-4656e6c6f9bc\" name=\"files[]\" multiple disabled />\n",
              "     <output id=\"result-12b6e77f-865f-4729-9db1-4656e6c6f9bc\">\n",
              "      Upload widget is only available when the cell has been executed in the\n",
              "      current browser session. Please rerun this cell to enable.\n",
              "      </output>\n",
              "      <script src=\"/nbextensions/google.colab/files.js\"></script> "
            ],
            "text/plain": [
              "<IPython.core.display.HTML object>"
            ]
          },
          "metadata": {
            "tags": []
          }
        },
        {
          "output_type": "stream",
          "text": [
            "Saving imgdata.7z to imgdata.7z\n",
            "User uploaded file \"imgdata.7z\" with length 319131026 bytes\n"
          ],
          "name": "stdout"
        }
      ]
    },
    {
      "cell_type": "code",
      "metadata": {
        "id": "2MC5jE-5x94M",
        "colab_type": "code",
        "outputId": "008a3adb-bb28-4dc3-a947-00719d6c1d87",
        "colab": {
          "base_uri": "https://localhost:8080/",
          "height": 446
        }
      },
      "source": [
        "!ls\n",
        "!7z e imgdata.7z"
      ],
      "execution_count": 0,
      "outputs": [
        {
          "output_type": "stream",
          "text": [
     
            "\n",
            "7-Zip [64] 16.02 : Copyright (c) 1999-2016 Igor Pavlov : 2016-05-21\n",
            "p7zip Version 16.02 (locale=en_US.UTF-8,Utf16=on,HugeFiles=on,64 bits,2 CPUs Intel(R) Xeon(R) CPU @ 2.30GHz (306F0),ASM,AES-NI)\n",
            "\n",
            "Scanning the drive for archives:\n",
            "  0M Scan\b\b\b\b\b\b\b\b\b         \b\b\b\b\b\b\b\b\b1 file, 319131026 bytes (305 MiB)\n",
            "\n",
            "Extracting archive: imgdata.7z\n",
            "--\n",
            "Path = imgdata.7z\n",
            "Type = 7z\n",
            "Physical Size = 319131026\n",
            "Headers Size = 514\n",
            "Method = LZMA:24\n",
            "Solid = +\n",
            "Blocks = 2\n",
            "\n",
            "  0%\b\b\b\b    \b\b\b\b  0% - dt1.npz\b\b\b\b\b\b\b\b\b\b\b\b\b\b              \b\b\b\b\b\b\b\b\b\b\b\b\b\b  1% - dt1.npz\b\b\b\b\b\b\b\b\b\b\b\b\b\b              \b\b\b\b\b\b\b\b\b\b\b\b\b\b  2% - dt1.npz\b\b\b\b\b\b\b\b\b\b\b\b\b\b              \b\b\b\b\b\b\b\b\b\b\b\b\b\b  3% - dt1.npz\b\b\b\b\b\b\b\b\b\b\b\b\b\b              \b\b\b\b\b\b\b\b\b\b\b\b\b\b  4% - dt1.npz\b\b\b\b\b\b\b\b\b\b\b\b\b\b              \b\b\b\b\b\b\b\b\b\b\b\b\b\b  5% - dt1.npz\b\b\b\b\b\b\b\b\b\b\b\b\b\b              \b\b\b\b\b\b\b\b\b\b\b\b\b\b  6% - dt1.npz\b\b\b\b\b\b\b\b\b\b\b\b\b\b              \b\b\b\b\b\b\b\b\b\b\b\b\b\b  7% - dt1.npz\b\b\b\b\b\b\b\b\b\b\b\b\b\b              \b\b\b\b\b\b\b\b\b\b\b\b\b\b  8% - dt1.npz\b\b\b\b\b\b\b\b\b\b\b\b\b\b              \b\b\b\b\b\b\b\b\b\b\b\b\b\b  9% - dt1.npz\b\b\b\b\b\b\b\b\b\b\b\b\b\b              \b\b\b\b\b\b\b\b\b\b\b\b\b\b 10% - dt1.npz\b\b\b\b\b\b\b\b\b\b\b\b\b\b              \b\b\b\b\b\b\b\b\b\b\b\b\b\b 10% 1 - dt10.npz\b\b\b\b\b\b\b\b\b\b\b\b\b\b\b\b\b                 \b\b\b\b\b\b\b\b\b\b\b\b\b\b\b\b\b 11% 1 - dt10.npz\b\b\b\b\b\b\b\b\b\b\b\b\b\b\b\b\b                 \b\b\b\b\b\b\b\b\b\b\b\b\b\b\b\b\b 12% 1 - dt10.npz\b\b\b\b\b\b\b\b\b\b\b\b\b\b\b\b\b                 \b\b\b\b\b\b\b\b\b\b\b\b\b\b\b\b\b 13% 1 - dt10.npz\b\b\b\b\b\b\b\b\b\b\b\b\b\b\b\b\b                 \b\b\b\b\b\b\b\b\b\b\b\b\b\b\b\b\b 14% 1 - dt10.npz\b\b\b\b\b\b\b\b\b\b\b\b\b\b\b\b\b                 \b\b\b\b\b\b\b\b\b\b\b\b\b\b\b\b\b 14% 2 - dt11.npz\b\b\b\b\b\b\b\b\b\b\b\b\b\b\b\b\b                 \b\b\b\b\b\b\b\b\b\b\b\b\b\b\b\b\b 15% 2 - dt11.npz\b\b\b\b\b\b\b\b\b\b\b\b\b\b\b\b\b                 \b\b\b\b\b\b\b\b\b\b\b\b\b\b\b\b\b 16% 2 - dt11.npz\b\b\b\b\b\b\b\b\b\b\b\b\b\b\b\b\b                 \b\b\b\b\b\b\b\b\b\b\b\b\b\b\b\b\b 17% 2 - dt11.npz\b\b\b\b\b\b\b\b\b\b\b\b\b\b\b\b\b                 \b\b\b\b\b\b\b\b\b\b\b\b\b\b\b\b\b 18% 2 - dt11.npz\b\b\b\b\b\b\b\b\b\b\b\b\b\b\b\b\b                 \b\b\b\b\b\b\b\b\b\b\b\b\b\b\b\b\b 19% 2 - dt11.npz\b\b\b\b\b\b\b\b\b\b\b\b\b\b\b\b\b                 \b\b\b\b\b\b\b\b\b\b\b\b\b\b\b\b\b 19% 3 - dt12.npz\b\b\b\b\b\b\b\b\b\b\b\b\b\b\b\b\b                 \b\b\b\b\b\b\b\b\b\b\b\b\b\b\b\b\b 20% 3 - dt12.npz\b\b\b\b\b\b\b\b\b\b\b\b\b\b\b\b\b                 \b\b\b\b\b\b\b\b\b\b\b\b\b\b\b\b\b 21% 3 - dt12.npz\b\b\b\b\b\b\b\b\b\b\b\b\b\b\b\b\b                 \b\b\b\b\b\b\b\b\b\b\b\b\b\b\b\b\b 22% 3 - dt12.npz\b\b\b\b\b\b\b\b\b\b\b\b\b\b\b\b\b                 \b\b\b\b\b\b\b\b\b\b\b\b\b\b\b\b\b 23% 3 - dt12.npz\b\b\b\b\b\b\b\b\b\b\b\b\b\b\b\b\b                 \b\b\b\b\b\b\b\b\b\b\b\b\b\b\b\b\b 24% 3 - dt12.npz\b\b\b\b\b\b\b\b\b\b\b\b\b\b\b\b\b                 \b\b\b\b\b\b\b\b\b\b\b\b\b\b\b\b\b 24% 4 - dt13.npz\b\b\b\b\b\b\b\b\b\b\b\b\b\b\b\b\b                 \b\b\b\b\b\b\b\b\b\b\b\b\b\b\b\b\b 25% 4 - dt13.npz\b\b\b\b\b\b\b\b\b\b\b\b\b\b\b\b\b                 \b\b\b\b\b\b\b\b\b\b\b\b\b\b\b\b\b 26% 4 - dt13.npz\b\b\b\b\b\b\b\b\b\b\b\b\b\b\b\b\b                 \b\b\b\b\b\b\b\b\b\b\b\b\b\b\b\b\b 27% 4 - dt13.npz\b\b\b\b\b\b\b\b\b\b\b\b\b\b\b\b\b                 \b\b\b\b\b\b\b\b\b\b\b\b\b\b\b\b\b 28% 4 - dt13.npz\b\b\b\b\b\b\b\b\b\b\b\b\b\b\b\b\b                 \b\b\b\b\b\b\b\b\b\b\b\b\b\b\b\b\b 29% 4 - dt13.npz\b\b\b\b\b\b\b\b\b\b\b\b\b\b\b\b\b                 \b\b\b\b\b\b\b\b\b\b\b\b\b\b\b\b\b 29% 5 - dt14.npz\b\b\b\b\b\b\b\b\b\b\b\b\b\b\b\b\b                 \b\b\b\b\b\b\b\b\b\b\b\b\b\b\b\b\b 30% 5 - dt14.npz\b\b\b\b\b\b\b\b\b\b\b\b\b\b\b\b\b                 \b\b\b\b\b\b\b\b\b\b\b\b\b\b\b\b\b 31% 6 - dt15.npz\b\b\b\b\b\b\b\b\b\b\b\b\b\b\b\b\b                 \b\b\b\b\b\b\b\b\b\b\b\b\b\b\b\b\b 32% 6 - dt15.npz\b\b\b\b\b\b\b\b\b\b\b\b\b\b\b\b\b                 \b\b\b\b\b\b\b\b\b\b\b\b\b\b\b\b\b 33% 6 - dt15.npz\b\b\b\b\b\b\b\b\b\b\b\b\b\b\b\b\b                 \b\b\b\b\b\b\b\b\b\b\b\b\b\b\b\b\b 34% 6 - dt15.npz\b\b\b\b\b\b\b\b\b\b\b\b\b\b\b\b\b                 \b\b\b\b\b\b\b\b\b\b\b\b\b\b\b\b\b 35% 6 - dt15.npz\b\b\b\b\b\b\b\b\b\b\b\b\b\b\b\b\b                 \b\b\b\b\b\b\b\b\b\b\b\b\b\b\b\b\b 35% 7 - dt16.npz\b\b\b\b\b\b\b\b\b\b\b\b\b\b\b\b\b                 \b\b\b\b\b\b\b\b\b\b\b\b\b\b\b\b\b 36% 7 - dt16.npz\b\b\b\b\b\b\b\b\b\b\b\b\b\b\b\b\b                 \b\b\b\b\b\b\b\b\b\b\b\b\b\b\b\b\b 37% 7 - dt16.npz\b\b\b\b\b\b\b\b\b\b\b\b\b\b\b\b\b                 \b\b\b\b\b\b\b\b\b\b\b\b\b\b\b\b\b 38% 7 - dt16.npz\b\b\b\b\b\b\b\b\b\b\b\b\b\b\b\b\b                 \b\b\b\b\b\b\b\b\b\b\b\b\b\b\b\b\b 38% 8 - dt17.npz\b\b\b\b\b\b\b\b\b\b\b\b\b\b\b\b\b                 \b\b\b\b\b\b\b\b\b\b\b\b\b\b\b\b\b 39% 8 - dt17.npz\b\b\b\b\b\b\b\b\b\b\b\b\b\b\b\b\b                 \b\b\b\b\b\b\b\b\b\b\b\b\b\b\b\b\b 40% 8 - dt17.npz\b\b\b\b\b\b\b\b\b\b\b\b\b\b\b\b\b                 \b\b\b\b\b\b\b\b\b\b\b\b\b\b\b\b\b 41% 8 - dt17.npz\b\b\b\b\b\b\b\b\b\b\b\b\b\b\b\b\b                 \b\b\b\b\b\b\b\b\b\b\b\b\b\b\b\b\b 42% 8 - dt17.npz\b\b\b\b\b\b\b\b\b\b\b\b\b\b\b\b\b                 \b\b\b\b\b\b\b\b\b\b\b\b\b\b\b\b\b 42% 9 - dt18.npz\b\b\b\b\b\b\b\b\b\b\b\b\b\b\b\b\b                 \b\b\b\b\b\b\b\b\b\b\b\b\b\b\b\b\b 43% 9 - dt18.npz\b\b\b\b\b\b\b\b\b\b\b\b\b\b\b\b\b                 \b\b\b\b\b\b\b\b\b\b\b\b\b\b\b\b\b 44% 9 - dt18.npz\b\b\b\b\b\b\b\b\b\b\b\b\b\b\b\b\b                 \b\b\b\b\b\b\b\b\b\b\b\b\b\b\b\b\b 44% 10 - dt19.npz\b\b\b\b\b\b\b\b\b\b\b\b\b\b\b\b\b\b                  \b\b\b\b\b\b\b\b\b\b\b\b\b\b\b\b\b\b 45% 10 - dt19.npz\b\b\b\b\b\b\b\b\b\b\b\b\b\b\b\b\b\b                  \b\b\b\b\b\b\b\b\b\b\b\b\b\b\b\b\b\b 46% 10 - dt19.npz\b\b\b\b\b\b\b\b\b\b\b\b\b\b\b\b\b\b                  \b\b\b\b\b\b\b\b\b\b\b\b\b\b\b\b\b\b 47% 10 - dt19.npz\b\b\b\b\b\b\b\b\b\b\b\b\b\b\b\b\b\b                  \b\b\b\b\b\b\b\b\b\b\b\b\b\b\b\b\b\b 48% 10 - dt19.npz\b\b\b\b\b\b\b\b\b\b\b\b\b\b\b\b\b\b                  \b\b\b\b\b\b\b\b\b\b\b\b\b\b\b\b\b\b 48% 11 - dt2.npz\b\b\b\b\b\b\b\b\b\b\b\b\b\b\b\b\b                 \b\b\b\b\b\b\b\b\b\b\b\b\b\b\b\b\b 49% 11 - dt2.npz\b\b\b\b\b\b\b\b\b\b\b\b\b\b\b\b\b                 \b\b\b\b\b\b\b\b\b\b\b\b\b\b\b\b\b 50% 11 - dt2.npz\b\b\b\b\b\b\b\b\b\b\b\b\b\b\b\b\b                 \b\b\b\b\b\b\b\b\b\b\b\b\b\b\b\b\b 51% 11 - dt2.npz\b\b\b\b\b\b\b\b\b\b\b\b\b\b\b\b\b                 \b\b\b\b\b\b\b\b\b\b\b\b\b\b\b\b\b 52% 11 - dt2.npz\b\b\b\b\b\b\b\b\b\b\b\b\b\b\b\b\b                 \b\b\b\b\b\b\b\b\b\b\b\b\b\b\b\b\b 52% 12 - dt20.npz\b\b\b\b\b\b\b\b\b\b\b\b\b\b\b\b\b\b                  \b\b\b\b\b\b\b\b\b\b\b\b\b\b\b\b\b\b 53% 12 - dt20.npz\b\b\b\b\b\b\b\b\b\b\b\b\b\b\b\b\b\b                  \b\b\b\b\b\b\b\b\b\b\b\b\b\b\b\b\b\b 54% 12 - dt20.npz\b\b\b\b\b\b\b\b\b\b\b\b\b\b\b\b\b\b                  \b\b\b\b\b\b\b\b\b\b\b\b\b\b\b\b\b\b 55% 12 - dt20.npz\b\b\b\b\b\b\b\b\b\b\b\b\b\b\b\b\b\b                  \b\b\b\b\b\b\b\b\b\b\b\b\b\b\b\b\b\b 56% 12 - dt20.npz\b\b\b\b\b\b\b\b\b\b\b\b\b\b\b\b\b\b                  \b\b\b\b\b\b\b\b\b\b\b\b\b\b\b\b\b\b 57% 12 - dt20.npz\b\b\b\b\b\b\b\b\b\b\b\b\b\b\b\b\b\b                  \b\b\b\b\b\b\b\b\b\b\b\b\b\b\b\b\b\b 58% 12 - dt20.npz\b\b\b\b\b\b\b\b\b\b\b\b\b\b\b\b\b\b                  \b\b\b\b\b\b\b\b\b\b\b\b\b\b\b\b\b\b 58% 13 - dt21.npz\b\b\b\b\b\b\b\b\b\b\b\b\b\b\b\b\b\b                  \b\b\b\b\b\b\b\b\b\b\b\b\b\b\b\b\b\b 59% 13 - dt21.npz\b\b\b\b\b\b\b\b\b\b\b\b\b\b\b\b\b\b                  \b\b\b\b\b\b\b\b\b\b\b\b\b\b\b\b\b\b 60% 13 - dt21.npz\b\b\b\b\b\b\b\b\b\b\b\b\b\b\b\b\b\b                  \b\b\b\b\b\b\b\b\b\b\b\b\b\b\b\b\b\b 61% 13 - dt21.npz\b\b\b\b\b\b\b\b\b\b\b\b\b\b\b\b\b\b                  \b\b\b\b\b\b\b\b\b\b\b\b\b\b\b\b\b\b 62% 13 - dt21.npz\b\b\b\b\b\b\b\b\b\b\b\b\b\b\b\b\b\b                  \b\b\b\b\b\b\b\b\b\b\b\b\b\b\b\b\b\b 63% 13 - dt21.npz\b\b\b\b\b\b\b\b\b\b\b\b\b\b\b\b\b\b                  \b\b\b\b\b\b\b\b\b\b\b\b\b\b\b\b\b\b 63% 14 - dt22.npz\b\b\b\b\b\b\b\b\b\b\b\b\b\b\b\b\b\b                  \b\b\b\b\b\b\b\b\b\b\b\b\b\b\b\b\b\b 64% 14 - dt22.npz\b\b\b\b\b\b\b\b\b\b\b\b\b\b\b\b\b\b                  \b\b\b\b\b\b\b\b\b\b\b\b\b\b\b\b\b\b 65% 14 - dt22.npz\b\b\b\b\b\b\b\b\b\b\b\b\b\b\b\b\b\b                  \b\b\b\b\b\b\b\b\b\b\b\b\b\b\b\b\b\b 65% 15 - dt3.npz\b\b\b\b\b\b\b\b\b\b\b\b\b\b\b\b\b                 \b\b\b\b\b\b\b\b\b\b\b\b\b\b\b\b\b 66% 15 - dt3.npz\b\b\b\b\b\b\b\b\b\b\b\b\b\b\b\b\b                 \b\b\b\b\b\b\b\b\b\b\b\b\b\b\b\b\b 67% 15 - dt3.npz\b\b\b\b\b\b\b\b\b\b\b\b\b\b\b\b\b                 \b\b\b\b\b\b\b\b\b\b\b\b\b\b\b\b\b 68% 15 - dt3.npz\b\b\b\b\b\b\b\b\b\b\b\b\b\b\b\b\b                 \b\b\b\b\b\b\b\b\b\b\b\b\b\b\b\b\b 69% 15 - dt3.npz\b\b\b\b\b\b\b\b\b\b\b\b\b\b\b\b\b                 \b\b\b\b\b\b\b\b\b\b\b\b\b\b\b\b\b 70% 15 - dt3.npz\b\b\b\b\b\b\b\b\b\b\b\b\b\b\b\b\b                 \b\b\b\b\b\b\b\b\b\b\b\b\b\b\b\b\b 71% 15 - dt3.npz\b\b\b\b\b\b\b\b\b\b\b\b\b\b\b\b\b                 \b\b\b\b\b\b\b\b\b\b\b\b\b\b\b\b\b 72% 15 - dt3.npz\b\b\b\b\b\b\b\b\b\b\b\b\b\b\b\b\b                 \b\b\b\b\b\b\b\b\b\b\b\b\b\b\b\b\b 72% 16 - dt4.npz\b\b\b\b\b\b\b\b\b\b\b\b\b\b\b\b\b                 \b\b\b\b\b\b\b\b\b\b\b\b\b\b\b\b\b 73% 16 - dt4.npz\b\b\b\b\b\b\b\b\b\b\b\b\b\b\b\b\b                 \b\b\b\b\b\b\b\b\b\b\b\b\b\b\b\b\b 74% 16 - dt4.npz\b\b\b\b\b\b\b\b\b\b\b\b\b\b\b\b\b                 \b\b\b\b\b\b\b\b\b\b\b\b\b\b\b\b\b 74% 17 - dt5.npz\b\b\b\b\b\b\b\b\b\b\b\b\b\b\b\b\b                 \b\b\b\b\b\b\b\b\b\b\b\b\b\b\b\b\b 75% 17 - dt5.npz\b\b\b\b\b\b\b\b\b\b\b\b\b\b\b\b\b                 \b\b\b\b\b\b\b\b\b\b\b\b\b\b\b\b\b 76% 17 - dt5.npz\b\b\b\b\b\b\b\b\b\b\b\b\b\b\b\b\b                 \b\b\b\b\b\b\b\b\b\b\b\b\b\b\b\b\b 77% 17 - dt5.npz\b\b\b\b\b\b\b\b\b\b\b\b\b\b\b\b\b                 \b\b\b\b\b\b\b\b\b\b\b\b\b\b\b\b\b 78% 17 - dt5.npz\b\b\b\b\b\b\b\b\b\b\b\b\b\b\b\b\b                 \b\b\b\b\b\b\b\b\b\b\b\b\b\b\b\b\b 79% 17 - dt5.npz\b\b\b\b\b\b\b\b\b\b\b\b\b\b\b\b\b                 \b\b\b\b\b\b\b\b\b\b\b\b\b\b\b\b\b 80% 17 - dt5.npz\b\b\b\b\b\b\b\b\b\b\b\b\b\b\b\b\b                 \b\b\b\b\b\b\b\b\b\b\b\b\b\b\b\b\b 81% 17 - dt5.npz\b\b\b\b\b\b\b\b\b\b\b\b\b\b\b\b\b                 \b\b\b\b\b\b\b\b\b\b\b\b\b\b\b\b\b 82% 17 - dt5.npz\b\b\b\b\b\b\b\b\b\b\b\b\b\b\b\b\b                 \b\b\b\b\b\b\b\b\b\b\b\b\b\b\b\b\b 82% 18 - dt6.npz\b\b\b\b\b\b\b\b\b\b\b\b\b\b\b\b\b                 \b\b\b\b\b\b\b\b\b\b\b\b\b\b\b\b\b 83% 18 - dt6.npz\b\b\b\b\b\b\b\b\b\b\b\b\b\b\b\b\b                 \b\b\b\b\b\b\b\b\b\b\b\b\b\b\b\b\b 84% 18 - dt6.npz\b\b\b\b\b\b\b\b\b\b\b\b\b\b\b\b\b                 \b\b\b\b\b\b\b\b\b\b\b\b\b\b\b\b\b 84% 19 - dt7.npz\b\b\b\b\b\b\b\b\b\b\b\b\b\b\b\b\b                 \b\b\b\b\b\b\b\b\b\b\b\b\b\b\b\b\b 85% 19 - dt7.npz\b\b\b\b\b\b\b\b\b\b\b\b\b\b\b\b\b                 \b\b\b\b\b\b\b\b\b\b\b\b\b\b\b\b\b 86% 19 - dt7.npz\b\b\b\b\b\b\b\b\b\b\b\b\b\b\b\b\b                 \b\b\b\b\b\b\b\b\b\b\b\b\b\b\b\b\b 87% 19 - dt7.npz\b\b\b\b\b\b\b\b\b\b\b\b\b\b\b\b\b                 \b\b\b\b\b\b\b\b\b\b\b\b\b\b\b\b\b 88% 19 - dt7.npz\b\b\b\b\b\b\b\b\b\b\b\b\b\b\b\b\b                 \b\b\b\b\b\b\b\b\b\b\b\b\b\b\b\b\b 89% 19 - dt7.npz\b\b\b\b\b\b\b\b\b\b\b\b\b\b\b\b\b                 \b\b\b\b\b\b\b\b\b\b\b\b\b\b\b\b\b 90% 19 - dt7.npz\b\b\b\b\b\b\b\b\b\b\b\b\b\b\b\b\b                 \b\b\b\b\b\b\b\b\b\b\b\b\b\b\b\b\b 91% 19 - dt7.npz\b\b\b\b\b\b\b\b\b\b\b\b\b\b\b\b\b                 \b\b\b\b\b\b\b\b\b\b\b\b\b\b\b\b\b 92% 19 - dt7.npz\b\b\b\b\b\b\b\b\b\b\b\b\b\b\b\b\b                 \b\b\b\b\b\b\b\b\b\b\b\b\b\b\b\b\b 93% 19 - dt7.npz\b\b\b\b\b\b\b\b\b\b\b\b\b\b\b\b\b                 \b\b\b\b\b\b\b\b\b\b\b\b\b\b\b\b\b 94% 19 - dt7.npz\b\b\b\b\b\b\b\b\b\b\b\b\b\b\b\b\b                 \b\b\b\b\b\b\b\b\b\b\b\b\b\b\b\b\b 94% 20 - dt8.npz\b\b\b\b\b\b\b\b\b\b\b\b\b\b\b\b\b                 \b\b\b\b\b\b\b\b\b\b\b\b\b\b\b\b\b 95% 20 - dt8.npz\b\b\b\b\b\b\b\b\b\b\b\b\b\b\b\b\b                 \b\b\b\b\b\b\b\b\b\b\b\b\b\b\b\b\b 96% 20 - dt8.npz\b\b\b\b\b\b\b\b\b\b\b\b\b\b\b\b\b                 \b\b\b\b\b\b\b\b\b\b\b\b\b\b\b\b\b 97% 20 - dt8.npz\b\b\b\b\b\b\b\b\b\b\b\b\b\b\b\b\b                 \b\b\b\b\b\b\b\b\b\b\b\b\b\b\b\b\b 97% 21 - dt9.npz\b\b\b\b\b\b\b\b\b\b\b\b\b\b\b\b\b                 \b\b\b\b\b\b\b\b\b\b\b\b\b\b\b\b\b 98% 21 - dt9.npz\b\b\b\b\b\b\b\b\b\b\b\b\b\b\b\b\b                 \b\b\b\b\b\b\b\b\b\b\b\b\b\b\b\b\b 99% 21 - dt9.npz\b\b\b\b\b\b\b\b\b\b\b\b\b\b\b\b\b                 \b\b\b\b\b\b\b\b\b\b\b\b\b\b\b\b\b100% 22\b\b\b\b\b\b\b       \b\b\b\b\b\b\bEverything is Ok\n",
            "\n",
            "Files: 22\n",
            "Size:       4122142304\n",

      "cell_type": "code",
      "metadata": {
        "id": "9JkASdv7u2-9",
        "colab_type": "code",
        "colab": {}
      },
      "source": [
        "from sklearn.model_selection import train_test_split\n",
        "import glob\n",
        "import sys\n",
        "import time\n",
        "import os\n",
        "import numpy as np\n",
        "import cv2"
      ],
      "execution_count": 0,
      "outputs": []
    },
    {
      "cell_type": "code",
      "metadata": {
        "id": "IH_FiVcGu_0z",
        "colab_type": "code",
        "colab": {}
      },
      "source": [
        "input_size = 120*320\n",
        "data_path = \"training_data/*.npz\""
      ],
      "execution_count": 0,
      "outputs": []
    },
    {
      "cell_type": "code",
      "metadata": {
        "id": "qeidZe7RvgAn",
        "colab_type": "code",
        "outputId": "b2d138c9-53c6-45ce-961c-b9226727941a",
        "colab": {
          "base_uri": "https://localhost:8080/",
          "height": 86
        }
      },
      "source": [
        "def load_data(input_size, path):\n",
        "    print(\"Loading training data...\")\n",
        "    start = time.time()\n",
        "\n",
        "    # load training data\n",
        "    X = np.empty((0, input_size))\n",
        "    y = np.empty((0, 4))\n",
        "    training_data = glob.glob(path)\n",
        "\n",
        "    # if no data, exit\n",
        "    if not training_data:\n",
        "        print(\"Data not found, exit\")\n",
        "        sys.exit()\n",
        "\n",
        "    for single_npz in training_data:\n",
        "        with np.load(single_npz) as data:\n",
        "            train = data['train']\n",
        "            train_labels = data['train_labels']\n",
        "        X = np.vstack((X, train))\n",
        "        \n",
        "        y = np.vstack((y, train_labels))\n",
        "    \n",
        "    \n",
        "    #\n",
        "   \n",
        "    print(\"Image array shape: \", X.shape)\n",
        "    print(\"Label array shape: \", y.shape)\n",
        "\n",
        "    end = time.time()\n",
        "    print(\"Loading data duration: %.2fs\" % (end - start))\n",
        "\n",
        "    # normalize data\n",
        "    X = X / 255.\n",
        "\n",
        "    # train validation split, 7:3\n",
        "    return train_test_split(X, y, test_size=0.2)\n",
        "  \n",
        "X_train, X_valid, y_train, y_valid = load_data(input_size, data_path)"
      ],
      "execution_count": 0,
      "outputs": [
        {
          "output_type": "stream",
          "text": [
            "Loading training data...\n",
            "Image array shape:  (13417, 38400)\n",
            "Label array shape:  (13417, 4)\n",
            "Loading data duration: 103.41s\n"
          ],
          "name": "stdout"
        }
      ]
    },
    {
      "cell_type": "code",
      "metadata": {
        "id": "n6lYNT-pxjQq",
        "colab_type": "code",
        "outputId": "7a29fdce-68e7-4804-8643-1ff47cdfa580",
        "colab": {
          "base_uri": "https://localhost:8080/",
          "height": 34
        }
      },
      "source": [
        "from tensorflow.keras import layers\n",
        "from tensorflow import keras \n",
        "import tensorflow as tf\n",
        "from keras import backend as K\n",
        "from keras.models import Sequential\n",
        "from keras.layers import Dense, Dropout, Flatten\n",
        "from keras.layers import Conv2D, MaxPooling2D"
      ],
      "execution_count": 0,
      "outputs": [
        {
          "output_type": "stream",
          "text": [
            "Using TensorFlow backend.\n"
          ],
          "name": "stderr"
        }
      ]
    },
    {
      "cell_type": "code",
      "metadata": {
        "id": "6Eka3_gVx9fZ",
        "colab_type": "code",
        "outputId": "e81cc9df-8a35-4970-d38d-1c6c6efbaf31",
        "colab": {
          "base_uri": "https://localhost:8080/",
          "height": 194
        }
      },
      "source": [
        "\n",
        "import matplotlib.pyplot as plt\n",
        "from random import randint\n",
        "%matplotlib inline  \n",
        "idx = randint(0, len(X_train))\n",
        "plt.imshow(X_train[idx].reshape(120,320)) \n",
        "class_names=[\"right\",\"left\",\"forward\",\"backward\"]\n",
        "print(class_names[(y_train[idx]).argmax(-1)])"
      ],
      "execution_count": 0,
      "outputs": [
        {
          "output_type": "stream",
          "text": [
            "forward\n"
          ],
          "name": "stdout"
        },
        {
          "output_type": "display_data",
          "data": {
            "image/png": "iVBORw0KGgoAAAANSUhEUgAAAXUAAACgCAYAAADzefzgAAAABHNCSVQICAgIfAhkiAAAAAlwSFlz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\n",
            "text/plain": [
              "<Figure size 432x288 with 1 Axes>"
            ]
          },
          "metadata": {
            "tags": []
          }
        }
      ]
    },
    {
      "cell_type": "code",
      "metadata": {
        "id": "g3vqXlCQ2Vt9",
        "colab_type": "code",
        "outputId": "26fff365-be41-4aa4-a39d-20da7858da1e",
        "colab": {
          "base_uri": "https://localhost:8080/",
          "height": 51
        }
      },
      "source": [
        "\n",
        "#class_names=[\"right\",\"left\",\"forward\",\"backward\"]\n",
        "num_classes = len(class_names)\n",
        "# Convert class vectors to class matrices\n",
        "#y_train = keras.utils.to_categorical(y_train, num_classes)\n",
        "#y_valid = keras.utils.to_categorical(y_valid, num_classes)\n",
        "print(y_train.shape)\n",
        "print(y_valid.shape)"
      ],
      "execution_count": 0,
      "outputs": [
        {
          "output_type": "stream",
          "text": [
            "(10733, 4)\n",
            "(2684, 4)\n"
          ],
          "name": "stdout"
        }
      ]
    },
    {
      "cell_type": "code",
      "metadata": {
        "id": "HBmlATNQC-HY",
        "colab_type": "code",
        "outputId": "fe96a60f-2d02-456b-dec7-6a54e890763c",
        "colab": {
          "base_uri": "https://localhost:8080/",
          "height": 68
        }
      },
      "source": [
        "img_rows, img_cols = 120, 320\n",
        "\n",
        "if K.image_data_format() == 'channels_first':\n",
        "    X_train = X_train.reshape(X_train.shape[0], 1, img_rows, img_cols)\n",
        "    X_valid = X_valid.reshape(X_valid.shape[0], 1, img_rows, img_cols)\n",
        "    input_shape = (1, img_rows, img_cols)\n",
        "else:\n",
        "    X_train = X_train.reshape(X_train.shape[0], img_rows, img_cols, 1)\n",
        "    X_valid = X_valid.reshape(X_valid.shape[0], img_rows, img_cols, 1)\n",
        "    input_shape = (img_rows, img_cols, 1)\n",
        "\n",
        "\n",
        "\n",
        "print('x_train shape:', X_train.shape)\n",
        "print(X_train.shape[0], 'train samples')\n",
        "print(X_valid.shape[0], 'test samples')"
      ],
      "execution_count": 0,
      "outputs": [
        {
          "output_type": "stream",
          "text": [
            "x_train shape: (10733, 120, 320, 1)\n",
            "10733 train samples\n",
            "2684 test samples\n"
          ],
          "name": "stdout"
        }
      ]
    },
    {
      "cell_type": "code",
      "metadata": {
        "id": "PY2LE_jRKYqE",
        "colab_type": "code",
        "outputId": "9593513c-ce74-436d-dc79-0752f0984a33",
        "colab": {
          "base_uri": "https://localhost:8080/",
          "height": 211
        }
      },
      "source": [
        "#binarization X_train\n",
        "def binarization():\n",
        "  for i in range(10733):\n",
        "      img=X_train[i]*255\n",
        "\n",
        "      img=img.astype('uint8')\n",
        "      img=cv2.medianBlur(img,5)\n",
        "      img=cv2.adaptiveThreshold(img,255,cv2.ADAPTIVE_THRESH_GAUSSIAN_C,\\\n",
        "                    cv2.THRESH_BINARY,7,5)\n",
        "      X_train[i]=img.reshape(120,320,1)\n",
        "      X_train[i]=X_train[i]/255.0\n",
        "  print(\"done:\",X_train.shape) \n",
        "binarization()       \n",
        "plt.imshow(X_train[789].reshape(120,320))\n",
        "\t\t\n",
        "\n",
        "\n",
        "#import cv2 \n",
        "#img=X_train[7354]*255\n",
        "\n",
        "#img = img.astype('uint8')\n",
        "#img=cv2.medianBlur(img,5)\n",
        "#img=cv2.adaptiveThreshold(img,255,cv2.ADAPTIVE_THRESH_GAUSSIAN_C,\\\n",
        "#                cv2.THRESH_BINARY,19,13)\n",
        "#plt.imshow(img.reshape(120,320))\n",
        "#==============="
      ],
      "execution_count": 0,
      "outputs": [
        {
          "output_type": "stream",
          "text": [
            "done: (10733, 120, 320, 1)\n"
          ],
          "name": "stdout"
        },
        {
          "output_type": "execute_result",
          "data": {
            "text/plain": [
              "<matplotlib.image.AxesImage at 0x7fbf2aed41d0>"
            ]
          },
          "metadata": {
            "tags": []
          },
          "execution_count": 11
        },
        {
          "output_type": "display_data",
          "data": {
            "image/png": "iVBORw0KGgoAAAANSUhEUgAAAXUAAACgCAYAAADzefzgAAAABHNCSVQICAgIfAhkiAAAAAlwSFlz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\nBSFRF0KIgpCoCyFEQfw/Bcpk19+qaBIAAAAASUVORK5CYII=\n",
            "text/plain": [
              "<Figure size 432x288 with 1 Axes>"
            ]
          },
          "metadata": {
            "tags": []
          }
        }
      ]
    },
    {
      "cell_type": "code",
      "metadata": {
        "id": "XCV3vY-ZVNiV",
        "colab_type": "code",
        "outputId": "fc992287-11db-4365-9d46-4fa94775b4f2",
        "colab": {
          "base_uri": "https://localhost:8080/",
          "height": 211
        }
      },
      "source": [
        "#binarization y_valid\n",
        "\n",
        "def binarization():\n",
        "  for i in range(2684):\n",
        "      img=X_valid[i]*255\n",
        "\n",
        "      img=img.astype('uint8')\n",
        "      img=cv2.medianBlur(img,5)\n",
        "      img=cv2.adaptiveThreshold(img,255,cv2.ADAPTIVE_THRESH_GAUSSIAN_C,\\\n",
        "                    cv2.THRESH_BINARY,7,5)\n",
        "      X_valid[i]=img.reshape(120,320,1)\n",
        "      X_valid[i]=X_valid[i]/255.0\n",
        "  print(\"done:\",X_valid.shape) \n",
        "binarization()       \n",
        "plt.imshow(X_valid[789].reshape(120,320))"
      ],
      "execution_count": 0,
      "outputs": [
        {
          "output_type": "stream",
          "text": [
            "done: (2684, 120, 320, 1)\n"
          ],
          "name": "stdout"
        },
        {
          "output_type": "execute_result",
          "data": {
            "text/plain": [
              "<matplotlib.image.AxesImage at 0x7fbf2aebc048>"
            ]
          },
          "metadata": {
            "tags": []
          },
          "execution_count": 12
        },
        {
          "output_type": "display_data",
          "data": {
            "image/png": "iVBORw0KGgoAAAANSUhEUgAAAXUAAACgCAYAAADzefzgAAAABHNCSVQICAgIfAhkiAAAAAlwSFlz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\nRK5CYII=\n",
            "text/plain": [
              "<Figure size 432x288 with 1 Axes>"
            ]
          },
          "metadata": {
            "tags": []
          }
        }
      ]
    },
    {
      "cell_type": "code",
      "metadata": {
        "id": "jhsTzzxaErTD",
        "colab_type": "code",
        "outputId": "ac635e1f-e500-4e7f-d588-22759c814a33",
        "colab": {
          "base_uri": "https://localhost:8080/",
          "height": 534
        }
      },
      "source": [
        "model = keras.Sequential()\n",
        "model.add(layers.Convolution2D(16, (3, 3),\n",
        "                        padding='same',\n",
        "                        input_shape=input_shape, activation='relu'))\n",
        "model.add(layers.MaxPooling2D(pool_size=(2, 2)))\n",
        "model.add(layers.Convolution2D(32, (3, 3), padding='same', activation= 'relu'))\n",
        "model.add(layers.MaxPooling2D(pool_size=(2, 2)))\n",
        "model.add(layers.Convolution2D(64, (3, 3), padding='same', activation= 'relu'))\n",
        "model.add(layers.MaxPooling2D(pool_size =(2,2)))\n",
        "model.add(layers.Flatten())\n",
        "model.add(layers.Dense(128, activation='relu'))\n",
        "model.add(layers.Dense(4, activation='softmax')) \n",
        "#model = keras.Sequential()\n",
        "#model.add(layers.Convolution2D(32, (3, 3),\n",
        "#                        padding='same',\n",
        "#                        input_shape=input_shape, activation='relu'))\n",
        "#model.add(layers.Convolution2D(64, (3, 3), padding='same', activation= 'relu'))\n",
        "#model.add(layers.MaxPooling2D(pool_size=(2, 2)))\n",
        "#model.add(layers.Dropout(0.25))\n",
        "#model.add(layers.Flatten())\n",
        "#model.add(layers.Dense(128, activation='relu'))\n",
        "#model.add(layers.Dropout(0.5))\n",
        "#model.add(layers.Dense(4, activation='softmax')) \n",
        "# Train model\n",
        "adam = tf.train.AdamOptimizer()\n",
        "model.compile(loss='categorical_crossentropy',\n",
        "              optimizer='sgd',\n",
        "              metrics=['accuracy'])\n",
        "#'accuracy\n",
        "#top_k_categorical_accuracy\n",
        "print(model.summary())"
      ],
      "execution_count": 0,
      "outputs": [
        {
          "output_type": "stream",
          "text": [
            "WARNING:tensorflow:From /usr/local/lib/python3.6/dist-packages/tensorflow/python/ops/resource_variable_ops.py:435: colocate_with (from tensorflow.python.framework.ops) is deprecated and will be removed in a future version.\n",
            "Instructions for updating:\n",
            "Colocations handled automatically by placer.\n",
            "_________________________________________________________________\n",
            "Layer (type)                 Output Shape              Param #   \n",
            "=================================================================\n",
            "conv2d (Conv2D)              (None, 120, 320, 16)      160       \n",
            "_________________________________________________________________\n",
            "max_pooling2d (MaxPooling2D) (None, 60, 160, 16)       0         \n",
            "_________________________________________________________________\n",
            "conv2d_1 (Conv2D)            (None, 60, 160, 32)       4640      \n",
            "_________________________________________________________________\n",
            "max_pooling2d_1 (MaxPooling2 (None, 30, 80, 32)        0         \n",
            "_________________________________________________________________\n",
            "conv2d_2 (Conv2D)            (None, 30, 80, 64)        18496     \n",
            "_________________________________________________________________\n",
            "max_pooling2d_2 (MaxPooling2 (None, 15, 40, 64)        0         \n",
            "_________________________________________________________________\n",
            "flatten (Flatten)            (None, 38400)             0         \n",
            "_________________________________________________________________\n",
            "dense (Dense)                (None, 128)               4915328   \n",
            "_________________________________________________________________\n",
            "dense_1 (Dense)              (None, 4)                 516       \n",
            "=================================================================\n",
            "Total params: 4,939,140\n",
            "Trainable params: 4,939,140\n",
            "Non-trainable params: 0\n",
            "_________________________________________________________________\n",
            "None\n"
          ],
          "name": "stdout"
        }
      ]
    },
    {
      "cell_type": "code",
      "metadata": {
        "id": "3i5kp4sfFCdr",
        "colab_type": "code",
        "colab": {}
      },
      "source": [
        "adam = tf.train.AdamOptimizer()\n",
        "model.compile(loss='categorical_crossentropy',\n",
        "              optimizer='sgd',\n",
        "              metrics=['top_k_categorical_accuracy'])"
      ],
      "execution_count": 0,
      "outputs": []
    },
    {
      "cell_type": "code",
      "metadata": {
        "id": "xHhVwXdLFi5M",
        "colab_type": "code",
        "outputId": "3f46cf04-37fc-4b3f-b3fb-13bccf312fcc",
        "colab": {
          "base_uri": "https://localhost:8080/",
          "height": 3514
        }
      },
      "source": [
        "model.fit(X_train, y_train,validation_split=0.2,\n",
        "          batch_size=30,\n",
        "          epochs=100,\n",
        "          verbose=1)\n",
        "score = model.evaluate(X_valid, y_valid, verbose=1)\n",
        "print('Test loss:', score[0])\n",
        "print('Test accuracy:', score[1]*100)"
      ],
      "execution_count": 0,
      "outputs": [
        {
          "output_type": "stream",
          "text": [
            "Train on 8586 samples, validate on 2147 samples\n",
            "Epoch 1/100\n",
            "8586/8586 [==============================] - 15s 2ms/sample - loss: 0.0025 - acc: 0.9997 - val_loss: 1.3825 - val_acc: 0.8249\n",
            "Epoch 2/100\n",
            "8586/8586 [==============================] - 14s 2ms/sample - loss: 0.0025 - acc: 0.9997 - val_loss: 1.3860 - val_acc: 0.8300\n",
            "Epoch 3/100\n",
            "8586/8586 [==============================] - 14s 2ms/sample - loss: 0.0025 - acc: 0.9997 - val_loss: 1.3880 - val_acc: 0.8305\n",
            "Epoch 4/100\n",
            "8586/8586 [==============================] - 15s 2ms/sample - loss: 0.0025 - acc: 0.9997 - val_loss: 1.3896 - val_acc: 0.8230\n",
            "Epoch 5/100\n",
            "8586/8586 [==============================] - 15s 2ms/sample - loss: 0.0024 - acc: 0.9998 - val_loss: 1.3912 - val_acc: 0.8295\n",
            "Epoch 6/100\n",
            "8586/8586 [==============================] - 14s 2ms/sample - loss: 0.0025 - acc: 0.9997 - val_loss: 1.3927 - val_acc: 0.8300\n",
            "Epoch 7/100\n",
            "8586/8586 [==============================] - 14s 2ms/sample - loss: 0.0025 - acc: 0.9997 - val_loss: 1.3925 - val_acc: 0.8295\n",
            "Epoch 8/100\n",
            "8586/8586 [==============================] - 15s 2ms/sample - loss: 0.0025 - acc: 0.9997 - val_loss: 1.3947 - val_acc: 0.8295\n",
            "Epoch 9/100\n",
            "8586/8586 [==============================] - 15s 2ms/sample - loss: 0.0025 - acc: 0.9995 - val_loss: 1.3956 - val_acc: 0.8295\n",
            "Epoch 10/100\n",
            "8586/8586 [==============================] - 15s 2ms/sample - loss: 0.0025 - acc: 0.9995 - val_loss: 1.3957 - val_acc: 0.8300\n",
            "Epoch 11/100\n",
            "8586/8586 [==============================] - 15s 2ms/sample - loss: 0.0024 - acc: 0.9997 - val_loss: 1.3973 - val_acc: 0.8300\n",
            "Epoch 12/100\n",
            "8586/8586 [==============================] - 15s 2ms/sample - loss: 0.0025 - acc: 0.9997 - val_loss: 1.3973 - val_acc: 0.8295\n",
            "Epoch 13/100\n",
            "8586/8586 [==============================] - 15s 2ms/sample - loss: 0.0025 - acc: 0.9997 - val_loss: 1.3993 - val_acc: 0.8291\n",
            "Epoch 14/100\n",
            "8586/8586 [==============================] - 15s 2ms/sample - loss: 0.0025 - acc: 0.9997 - val_loss: 1.3998 - val_acc: 0.8291\n",
            "Epoch 15/100\n",
            "8586/8586 [==============================] - 15s 2ms/sample - loss: 0.0025 - acc: 0.9997 - val_loss: 1.4013 - val_acc: 0.8291\n",
            "Epoch 16/100\n",
            "8586/8586 [==============================] - 15s 2ms/sample - loss: 0.0025 - acc: 0.9995 - val_loss: 1.4012 - val_acc: 0.8291\n",
            "Epoch 17/100\n",
            "8586/8586 [==============================] - 15s 2ms/sample - loss: 0.0025 - acc: 0.9997 - val_loss: 1.4022 - val_acc: 0.8281\n",
            "Epoch 18/100\n",
            "8586/8586 [==============================] - 15s 2ms/sample - loss: 0.0025 - acc: 0.9997 - val_loss: 1.4042 - val_acc: 0.8286\n",
            "Epoch 19/100\n",
            "8586/8586 [==============================] - 15s 2ms/sample - loss: 0.0024 - acc: 0.9997 - val_loss: 1.4039 - val_acc: 0.8281\n",
            "Epoch 20/100\n",
            "8586/8586 [==============================] - 15s 2ms/sample - loss: 0.0025 - acc: 0.9997 - val_loss: 1.4058 - val_acc: 0.8291\n",
            "Epoch 21/100\n",
            "8586/8586 [==============================] - 15s 2ms/sample - loss: 0.0025 - acc: 0.9997 - val_loss: 1.4056 - val_acc: 0.8291\n",
            "Epoch 22/100\n",
            "8586/8586 [==============================] - 15s 2ms/sample - loss: 0.0025 - acc: 0.9997 - val_loss: 1.4074 - val_acc: 0.8286\n",
            "Epoch 23/100\n",
            "8586/8586 [==============================] - 15s 2ms/sample - loss: 0.0025 - acc: 0.9997 - val_loss: 1.4083 - val_acc: 0.8286\n",
            "Epoch 24/100\n",
            "8586/8586 [==============================] - 15s 2ms/sample - loss: 0.0024 - acc: 0.9997 - val_loss: 1.4085 - val_acc: 0.8286\n",
            "Epoch 25/100\n",
            "8586/8586 [==============================] - 15s 2ms/sample - loss: 0.0024 - acc: 0.9997 - val_loss: 1.4111 - val_acc: 0.8225\n",
            "Epoch 26/100\n",
            "8586/8586 [==============================] - 15s 2ms/sample - loss: 0.0025 - acc: 0.9995 - val_loss: 1.4104 - val_acc: 0.8272\n",
            "Epoch 27/100\n",
            "8586/8586 [==============================] - 15s 2ms/sample - loss: 0.0024 - acc: 0.9997 - val_loss: 1.4110 - val_acc: 0.8281\n",
            "Epoch 28/100\n",
            "8586/8586 [==============================] - 15s 2ms/sample - loss: 0.0025 - acc: 0.9997 - val_loss: 1.4113 - val_acc: 0.8286\n",
            "Epoch 29/100\n",
            "8586/8586 [==============================] - 15s 2ms/sample - loss: 0.0025 - acc: 0.9995 - val_loss: 1.4132 - val_acc: 0.8286\n",
            "Epoch 30/100\n",
            "8586/8586 [==============================] - 15s 2ms/sample - loss: 0.0025 - acc: 0.9997 - val_loss: 1.4131 - val_acc: 0.8286\n",
            "Epoch 31/100\n",
            "8586/8586 [==============================] - 15s 2ms/sample - loss: 0.0024 - acc: 0.9997 - val_loss: 1.4140 - val_acc: 0.8281\n",
            "Epoch 32/100\n",
            "8586/8586 [==============================] - 15s 2ms/sample - loss: 0.0024 - acc: 0.9997 - val_loss: 1.4163 - val_acc: 0.8291\n",
            "Epoch 33/100\n",
            "8586/8586 [==============================] - 15s 2ms/sample - loss: 0.0025 - acc: 0.9997 - val_loss: 1.4149 - val_acc: 0.8281\n",
            "Epoch 34/100\n",
            "8586/8586 [==============================] - 15s 2ms/sample - loss: 0.0024 - acc: 0.9997 - val_loss: 1.4170 - val_acc: 0.8286\n",
            "Epoch 35/100\n",
            "8586/8586 [==============================] - 15s 2ms/sample - loss: 0.0024 - acc: 0.9995 - val_loss: 1.4180 - val_acc: 0.8281\n",
            "Epoch 36/100\n",
            "8586/8586 [==============================] - 15s 2ms/sample - loss: 0.0024 - acc: 0.9997 - val_loss: 1.4187 - val_acc: 0.8281\n",
            "Epoch 37/100\n",
            "8586/8586 [==============================] - 15s 2ms/sample - loss: 0.0024 - acc: 0.9995 - val_loss: 1.4197 - val_acc: 0.8286\n",
            "Epoch 38/100\n",
            "8586/8586 [==============================] - 15s 2ms/sample - loss: 0.0024 - acc: 0.9997 - val_loss: 1.4207 - val_acc: 0.8281\n",
            "Epoch 39/100\n",
            "8586/8586 [==============================] - 15s 2ms/sample - loss: 0.0024 - acc: 0.9995 - val_loss: 1.4211 - val_acc: 0.8277\n",
            "Epoch 40/100\n",
            "8586/8586 [==============================] - 15s 2ms/sample - loss: 0.0025 - acc: 0.9997 - val_loss: 1.4204 - val_acc: 0.8281\n",
            "Epoch 41/100\n",
            "8586/8586 [==============================] - 15s 2ms/sample - loss: 0.0024 - acc: 0.9997 - val_loss: 1.4221 - val_acc: 0.8286\n",
            "Epoch 42/100\n",
            "8586/8586 [==============================] - 15s 2ms/sample - loss: 0.0024 - acc: 0.9997 - val_loss: 1.4228 - val_acc: 0.8286\n",
            "Epoch 43/100\n",
            "8586/8586 [==============================] - 15s 2ms/sample - loss: 0.0024 - acc: 0.9997 - val_loss: 1.4236 - val_acc: 0.8286\n",
            "Epoch 44/100\n",
            "8586/8586 [==============================] - 14s 2ms/sample - loss: 0.0024 - acc: 0.9997 - val_loss: 1.4245 - val_acc: 0.8281\n",
            "Epoch 45/100\n",
            "8586/8586 [==============================] - 14s 2ms/sample - loss: 0.0024 - acc: 0.9995 - val_loss: 1.4235 - val_acc: 0.8281\n",
            "Epoch 46/100\n",
            "8586/8586 [==============================] - 14s 2ms/sample - loss: 0.0024 - acc: 0.9997 - val_loss: 1.4257 - val_acc: 0.8281\n",
            "Epoch 47/100\n",
            "8586/8586 [==============================] - 14s 2ms/sample - loss: 0.0024 - acc: 0.9997 - val_loss: 1.4270 - val_acc: 0.8277\n",
            "Epoch 48/100\n",
            "8586/8586 [==============================] - 14s 2ms/sample - loss: 0.0024 - acc: 0.9997 - val_loss: 1.4277 - val_acc: 0.8277\n",
            "Epoch 49/100\n",
            "8586/8586 [==============================] - 15s 2ms/sample - loss: 0.0024 - acc: 0.9997 - val_loss: 1.4300 - val_acc: 0.8239\n",
            "Epoch 50/100\n",
            "8586/8586 [==============================] - 15s 2ms/sample - loss: 0.0023 - acc: 0.9998 - val_loss: 1.4303 - val_acc: 0.8281\n",
            "Epoch 51/100\n",
            "8586/8586 [==============================] - 15s 2ms/sample - loss: 0.0024 - acc: 0.9997 - val_loss: 1.4326 - val_acc: 0.8230\n",
            "Epoch 52/100\n",
            "8586/8586 [==============================] - 15s 2ms/sample - loss: 0.0024 - acc: 0.9997 - val_loss: 1.4318 - val_acc: 0.8286\n",
            "Epoch 53/100\n",
            "8586/8586 [==============================] - 15s 2ms/sample - loss: 0.0024 - acc: 0.9997 - val_loss: 1.4309 - val_acc: 0.8277\n",
            "Epoch 54/100\n",
            "8586/8586 [==============================] - 15s 2ms/sample - loss: 0.0024 - acc: 0.9997 - val_loss: 1.4324 - val_acc: 0.8277\n",
            "Epoch 55/100\n",
            "8586/8586 [==============================] - 15s 2ms/sample - loss: 0.0024 - acc: 0.9997 - val_loss: 1.4334 - val_acc: 0.8277\n",
            "Epoch 56/100\n",
            "8586/8586 [==============================] - 15s 2ms/sample - loss: 0.0024 - acc: 0.9997 - val_loss: 1.4336 - val_acc: 0.8281\n",
            "Epoch 57/100\n",
            "8586/8586 [==============================] - 15s 2ms/sample - loss: 0.0024 - acc: 0.9997 - val_loss: 1.4359 - val_acc: 0.8277\n",
            "Epoch 58/100\n",
            "8586/8586 [==============================] - 15s 2ms/sample - loss: 0.0024 - acc: 0.9997 - val_loss: 1.4351 - val_acc: 0.8281\n",
            "Epoch 59/100\n",
            "8586/8586 [==============================] - 15s 2ms/sample - loss: 0.0023 - acc: 0.9997 - val_loss: 1.4364 - val_acc: 0.8281\n",
            "Epoch 60/100\n",
            "8586/8586 [==============================] - 15s 2ms/sample - loss: 0.0023 - acc: 0.9997 - val_loss: 1.4387 - val_acc: 0.8207\n",
            "Epoch 61/100\n",
            "8586/8586 [==============================] - 15s 2ms/sample - loss: 0.0024 - acc: 0.9997 - val_loss: 1.4382 - val_acc: 0.8272\n",
            "Epoch 62/100\n",
            "8586/8586 [==============================] - 15s 2ms/sample - loss: 0.0024 - acc: 0.9997 - val_loss: 1.4393 - val_acc: 0.8277\n",
            "Epoch 63/100\n",
            "8586/8586 [==============================] - 15s 2ms/sample - loss: 0.0024 - acc: 0.9997 - val_loss: 1.4387 - val_acc: 0.8249\n",
            "Epoch 64/100\n",
            "8586/8586 [==============================] - 15s 2ms/sample - loss: 0.0024 - acc: 0.9997 - val_loss: 1.4390 - val_acc: 0.8281\n",
            "Epoch 65/100\n",
            "8586/8586 [==============================] - 15s 2ms/sample - loss: 0.0024 - acc: 0.9997 - val_loss: 1.4410 - val_acc: 0.8249\n",
            "Epoch 66/100\n",
            "8586/8586 [==============================] - 15s 2ms/sample - loss: 0.0025 - acc: 0.9995 - val_loss: 1.4438 - val_acc: 0.8225\n",
            "Epoch 67/100\n",
            "8586/8586 [==============================] - 14s 2ms/sample - loss: 0.0024 - acc: 0.9997 - val_loss: 1.4414 - val_acc: 0.8263\n",
            "Epoch 68/100\n",
            "8586/8586 [==============================] - 15s 2ms/sample - loss: 0.0024 - acc: 0.9997 - val_loss: 1.4415 - val_acc: 0.8272\n",
            "Epoch 69/100\n",
            "8586/8586 [==============================] - 15s 2ms/sample - loss: 0.0024 - acc: 0.9997 - val_loss: 1.4412 - val_acc: 0.8272\n",
            "Epoch 70/100\n",
            "8586/8586 [==============================] - 15s 2ms/sample - loss: 0.0024 - acc: 0.9997 - val_loss: 1.4421 - val_acc: 0.8277\n",
            "Epoch 71/100\n",
            "8586/8586 [==============================] - 15s 2ms/sample - loss: 0.0024 - acc: 0.9997 - val_loss: 1.4437 - val_acc: 0.8281\n",
            "Epoch 72/100\n",
            "8586/8586 [==============================] - 15s 2ms/sample - loss: 0.0024 - acc: 0.9997 - val_loss: 1.4430 - val_acc: 0.8277\n",
            "Epoch 73/100\n",
            "8586/8586 [==============================] - 15s 2ms/sample - loss: 0.0024 - acc: 0.9997 - val_loss: 1.4441 - val_acc: 0.8272\n",
            "Epoch 74/100\n",
            "8586/8586 [==============================] - 15s 2ms/sample - loss: 0.0024 - acc: 0.9997 - val_loss: 1.4450 - val_acc: 0.8267\n",
            "Epoch 75/100\n",
            "8586/8586 [==============================] - 14s 2ms/sample - loss: 0.0024 - acc: 0.9997 - val_loss: 1.4458 - val_acc: 0.8249\n",
            "Epoch 76/100\n",
            "8586/8586 [==============================] - 15s 2ms/sample - loss: 0.0023 - acc: 0.9998 - val_loss: 1.4479 - val_acc: 0.8272\n",
            "Epoch 77/100\n",
            "8586/8586 [==============================] - 15s 2ms/sample - loss: 0.0023 - acc: 0.9997 - val_loss: 1.4490 - val_acc: 0.8267\n",
            "Epoch 78/100\n",
            "8586/8586 [==============================] - 15s 2ms/sample - loss: 0.0024 - acc: 0.9997 - val_loss: 1.4491 - val_acc: 0.8277\n",
            "Epoch 79/100\n",
            "8586/8586 [==============================] - 15s 2ms/sample - loss: 0.0024 - acc: 0.9997 - val_loss: 1.4483 - val_acc: 0.8272\n",
            "Epoch 80/100\n",
            "8586/8586 [==============================] - 15s 2ms/sample - loss: 0.0024 - acc: 0.9997 - val_loss: 1.4486 - val_acc: 0.8267\n",
            "Epoch 81/100\n",
            "8586/8586 [==============================] - 15s 2ms/sample - loss: 0.0023 - acc: 0.9997 - val_loss: 1.4531 - val_acc: 0.8211\n",
            "Epoch 82/100\n",
            "8586/8586 [==============================] - 15s 2ms/sample - loss: 0.0024 - acc: 0.9997 - val_loss: 1.4511 - val_acc: 0.8253\n",
            "Epoch 83/100\n",
            "8586/8586 [==============================] - 15s 2ms/sample - loss: 0.0024 - acc: 0.9997 - val_loss: 1.4520 - val_acc: 0.8267\n",
            "Epoch 84/100\n",
            "8586/8586 [==============================] - 15s 2ms/sample - loss: 0.0023 - acc: 0.9998 - val_loss: 1.4531 - val_acc: 0.8272\n",
            "Epoch 85/100\n",
            "8586/8586 [==============================] - 15s 2ms/sample - loss: 0.0024 - acc: 0.9997 - val_loss: 1.4519 - val_acc: 0.8267\n",
            "Epoch 86/100\n",
            "8586/8586 [==============================] - 15s 2ms/sample - loss: 0.0023 - acc: 0.9997 - val_loss: 1.4537 - val_acc: 0.8225\n",
            "Epoch 87/100\n",
            "8586/8586 [==============================] - 15s 2ms/sample - loss: 0.0024 - acc: 0.9997 - val_loss: 1.4523 - val_acc: 0.8249\n",
            "Epoch 88/100\n",
            "8586/8586 [==============================] - 15s 2ms/sample - loss: 0.0023 - acc: 0.9997 - val_loss: 1.4574 - val_acc: 0.8207\n",
            "Epoch 89/100\n",
            "8586/8586 [==============================] - 15s 2ms/sample - loss: 0.0024 - acc: 0.9997 - val_loss: 1.4557 - val_acc: 0.8258\n",
            "Epoch 90/100\n",
            "8586/8586 [==============================] - 15s 2ms/sample - loss: 0.0023 - acc: 0.9998 - val_loss: 1.4574 - val_acc: 0.8267\n",
            "Epoch 91/100\n",
            "8586/8586 [==============================] - 15s 2ms/sample - loss: 0.0024 - acc: 0.9997 - val_loss: 1.4555 - val_acc: 0.8272\n",
            "Epoch 92/100\n",
            "8586/8586 [==============================] - 15s 2ms/sample - loss: 0.0023 - acc: 0.9997 - val_loss: 1.4589 - val_acc: 0.8202\n",
            "Epoch 93/100\n",
            "8586/8586 [==============================] - 15s 2ms/sample - loss: 0.0023 - acc: 0.9998 - val_loss: 1.4580 - val_acc: 0.8267\n",
            "Epoch 94/100\n",
            "8586/8586 [==============================] - 15s 2ms/sample - loss: 0.0023 - acc: 0.9997 - val_loss: 1.4596 - val_acc: 0.8263\n",
            "Epoch 95/100\n",
            "8586/8586 [==============================] - 15s 2ms/sample - loss: 0.0023 - acc: 0.9997 - val_loss: 1.4620 - val_acc: 0.8216\n",
            "Epoch 96/100\n",
            "8586/8586 [==============================] - 15s 2ms/sample - loss: 0.0024 - acc: 0.9997 - val_loss: 1.4598 - val_acc: 0.8267\n",
            "Epoch 97/100\n",
            "8586/8586 [==============================] - 15s 2ms/sample - loss: 0.0023 - acc: 0.9998 - val_loss: 1.4614 - val_acc: 0.8272\n",
            "Epoch 98/100\n",
            "8586/8586 [==============================] - 15s 2ms/sample - loss: 0.0024 - acc: 0.9997 - val_loss: 1.4603 - val_acc: 0.8263\n",
            "Epoch 99/100\n",
            "8586/8586 [==============================] - 15s 2ms/sample - loss: 0.0023 - acc: 0.9997 - val_loss: 1.4620 - val_acc: 0.8263\n",
            "Epoch 100/100\n",
            "8586/8586 [==============================] - 15s 2ms/sample - loss: 0.0023 - acc: 0.9997 - val_loss: 1.4605 - val_acc: 0.8267\n",
            "2684/2684 [==============================] - 2s 731us/sample - loss: 1.4231 - acc: 0.8338\n",
            "Test loss: 1.42305485280189\n",
            "Test accuracy: 83.38301181793213\n"
          ],
          "name": "stdout"
        }
      ]
    },
    {
      "cell_type": "code",
      "metadata": {
        "id": "UWdAenoUM4uO",
        "colab_type": "code",
        "outputId": "61182f53-fe1c-4062-cc35-a85f378d0bc7",
        "colab": {
          "base_uri": "https://localhost:8080/",
          "height": 211
        }
      },
      "source": [
        "import matplotlib.pyplot as plt\n",
        "from random import randint\n",
        "%matplotlib inline  \n",
        "idx = randint(0, len(X_valid))\n",
        "x=57\n",
        "img = X_valid[idx]\n",
        "print (img.shape)\n",
        "plt.imshow(img.squeeze()) \n",
        "pred = model.predict(np.expand_dims(img, axis=0))[0]\n",
        "print (class_names[pred.argmax(-1)])\n"
      ],
      "execution_count": 0,
      "outputs": [
        {
          "output_type": "stream",
          "text": [
            "(120, 320, 1)\n",
            "forward\n"
          ],
          "name": "stdout"
        },
        {
          "output_type": "display_data",
          "data": {
            "image/png": "iVBORw0KGgoAAAANSUhEUgAAAXUAAACgCAYAAADzefzgAAAABHNCSVQICAgIfAhkiAAAAAlwSFlz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\niEhBlNRFRAryf7iExIdPD41fAAAAAElFTkSuQmCC\n",
            "text/plain": [
              "<Figure size 432x288 with 1 Axes>"
            ]
          },
          "metadata": {
            "tags": []
          }
        }
      ]
    },
    {
      "cell_type": "code",
      "metadata": {
        "id": "_OSJgg9iXY3j",
        "colab_type": "code",
        "outputId": "8f242118-d11c-4cf8-e2ab-9999aa73bdb1",
        "colab": {
          "base_uri": "https://localhost:8080/",
          "height": 187
        }
      },
      "source": [
        "#model.save('model')\n",
        "!sudo apt-get install libhdf5-serial-dev"
      ],
      "execution_count": 0,
      "outputs": [
        {
          "output_type": "stream",
          "text": [
            "Reading package lists... Done\n",
            "Building dependency tree       \n",
            "Reading state information... Done\n",
            "libhdf5-serial-dev is already the newest version (1.10.0-patch1+docs-4).\n",
            "0 upgraded, 0 newly installed, 0 to remove and 13 not upgraded.\n",
            "Reading package lists... Done\n",
            "Building dependency tree       \n",
            "Reading state information... Done\n",
            "libhdf5-serial-dev is already the newest version (1.10.0-patch1+docs-4).\n",
            "0 upgraded, 0 newly installed, 0 to remove and 13 not upgraded.\n"
          ],
          "name": "stdout"
        }
      ]
    },
    {
      "cell_type": "code",
      "metadata": {
        "id": "98imrXtsbUs3",
        "colab_type": "code",
        "colab": {}
      },
      "source": [
        "import h5py"
      ],
      "execution_count": 0,
      "outputs": []
    },
    {
      "cell_type": "code",
      "metadata": {
        "id": "svmSfSRfbZh_",
        "colab_type": "code",
        "colab": {}
      },
      "source": [
        "tf.keras.models.save_model(\n",
        "    model,\n",
        "    'model.hdf5',\n",
        "    overwrite=True,\n",
        "    include_optimizer=True\n",
        ")"
      ],
      "execution_count": 0,
      "outputs": []
    },
    {
      "cell_type": "code",
      "metadata": {
        "id": "lrMHS1kknXMS",
        "colab_type": "code",
        "outputId": "e86cc650-cc07-4714-d0d3-d08e5135d7cb",
        "colab": {
          "base_uri": "https://localhost:8080/",
          "height": 34
        }
      },
      "source": [
        "tf.keras.models.load_model(\n",
        "    'model.hdf5',\n",
        "    custom_objects=None,\n",
        "    compile=True\n",
        ")"
      ],
      "execution_count": 0,
      "outputs": [
        {
          "output_type": "execute_result",
          "data": {
            "text/plain": [
              "<tensorflow.python.keras.engine.sequential.Sequential at 0x7f5ebc7d95f8>"
            ]
          },
          "metadata": {
            "tags": []
          },
          "execution_count": 309
        }
      ]
    },
    {
      "cell_type": "code",
      "metadata": {
        "id": "dO7cW9e_tZeg",
        "colab_type": "code",
        "colab": {}
      },
      "source": [
        "model.save('model030419.model')"
      ],
      "execution_count": 0,
      "outputs": []
    }
  ]
}
